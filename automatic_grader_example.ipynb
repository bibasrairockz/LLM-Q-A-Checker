{
  "cells": [
    {
      "cell_type": "markdown",
      "id": "30cb081b-c76c-4267-a9d4-d88c0b2fc47c",
      "metadata": {
        "id": "30cb081b-c76c-4267-a9d4-d88c0b2fc47c"
      },
      "source": [
        "### import libraries"
      ]
    },
    {
      "cell_type": "code",
      "source": [
        "!pip install -r requirements.txt\n"
      ],
      "metadata": {
        "colab": {
          "base_uri": "https://localhost:8080/"
        },
        "id": "XRWbtd9D6JFI",
        "outputId": "7fc72048-8e07-408f-8986-73dcc9290ab9"
      },
      "id": "XRWbtd9D6JFI",
      "execution_count": 2,
      "outputs": [
        {
          "output_type": "stream",
          "name": "stdout",
          "text": [
            "Requirement already satisfied: certifi==2023.7.22 in /usr/local/lib/python3.10/dist-packages (from -r requirements.txt (line 1)) (2023.7.22)\n",
            "Requirement already satisfied: docopt==0.6.2 in /usr/local/lib/python3.10/dist-packages (from -r requirements.txt (line 3)) (0.6.2)\n",
            "Requirement already satisfied: jsonpointer==2.0 in /usr/local/lib/python3.10/dist-packages (from -r requirements.txt (line 5)) (2.0)\n",
            "Requirement already satisfied: openai==0.27.8 in /usr/local/lib/python3.10/dist-packages (from -r requirements.txt (line 7)) (0.27.8)\n",
            "Requirement already satisfied: pipreqs==0.4.13 in /usr/local/lib/python3.10/dist-packages (from -r requirements.txt (line 9)) (0.4.13)\n",
            "Requirement already satisfied: stringcase==1.2.0 in /usr/local/lib/python3.10/dist-packages (from -r requirements.txt (line 11)) (1.2.0)\n",
            "Requirement already satisfied: tqdm==4.66.1 in /usr/local/lib/python3.10/dist-packages (from -r requirements.txt (line 13)) (4.66.1)\n",
            "Requirement already satisfied: webencodings==0.5.1 in /usr/local/lib/python3.10/dist-packages (from -r requirements.txt (line 15)) (0.5.1)\n",
            "Requirement already satisfied: yarg==0.1.9 in /usr/local/lib/python3.10/dist-packages (from -r requirements.txt (line 16)) (0.1.9)\n",
            "Collecting langchain (from -r requirements.txt (line 18))\n",
            "  Downloading langchain-0.1.16-py3-none-any.whl (817 kB)\n",
            "\u001b[2K     \u001b[90m━━━━━━━━━━━━━━━━━━━━━━━━━━━━━━━━━━━━━━━━\u001b[0m \u001b[32m817.7/817.7 kB\u001b[0m \u001b[31m6.1 MB/s\u001b[0m eta \u001b[36m0:00:00\u001b[0m\n",
            "\u001b[?25hRequirement already satisfied: requests>=2.20 in /usr/local/lib/python3.10/dist-packages (from openai==0.27.8->-r requirements.txt (line 7)) (2.31.0)\n",
            "Requirement already satisfied: aiohttp in /usr/local/lib/python3.10/dist-packages (from openai==0.27.8->-r requirements.txt (line 7)) (3.9.5)\n",
            "Requirement already satisfied: PyYAML>=5.3 in /usr/local/lib/python3.10/dist-packages (from langchain->-r requirements.txt (line 18)) (6.0.1)\n",
            "Requirement already satisfied: SQLAlchemy<3,>=1.4 in /usr/local/lib/python3.10/dist-packages (from langchain->-r requirements.txt (line 18)) (2.0.29)\n",
            "Requirement already satisfied: async-timeout<5.0.0,>=4.0.0 in /usr/local/lib/python3.10/dist-packages (from langchain->-r requirements.txt (line 18)) (4.0.3)\n",
            "Collecting dataclasses-json<0.7,>=0.5.7 (from langchain->-r requirements.txt (line 18))\n",
            "  Downloading dataclasses_json-0.6.4-py3-none-any.whl (28 kB)\n",
            "Collecting jsonpatch<2.0,>=1.33 (from langchain->-r requirements.txt (line 18))\n",
            "  Downloading jsonpatch-1.33-py2.py3-none-any.whl (12 kB)\n",
            "Collecting langchain-community<0.1,>=0.0.32 (from langchain->-r requirements.txt (line 18))\n",
            "  Downloading langchain_community-0.0.34-py3-none-any.whl (1.9 MB)\n",
            "\u001b[2K     \u001b[90m━━━━━━━━━━━━━━━━━━━━━━━━━━━━━━━━━━━━━━━━\u001b[0m \u001b[32m1.9/1.9 MB\u001b[0m \u001b[31m11.3 MB/s\u001b[0m eta \u001b[36m0:00:00\u001b[0m\n",
            "\u001b[?25hCollecting langchain-core<0.2.0,>=0.1.42 (from langchain->-r requirements.txt (line 18))\n",
            "  Downloading langchain_core-0.1.45-py3-none-any.whl (291 kB)\n",
            "\u001b[2K     \u001b[90m━━━━━━━━━━━━━━━━━━━━━━━━━━━━━━━━━━━━━━━━\u001b[0m \u001b[32m291.3/291.3 kB\u001b[0m \u001b[31m11.7 MB/s\u001b[0m eta \u001b[36m0:00:00\u001b[0m\n",
            "\u001b[?25hCollecting langchain-text-splitters<0.1,>=0.0.1 (from langchain->-r requirements.txt (line 18))\n",
            "  Downloading langchain_text_splitters-0.0.1-py3-none-any.whl (21 kB)\n",
            "Collecting langsmith<0.2.0,>=0.1.17 (from langchain->-r requirements.txt (line 18))\n",
            "  Downloading langsmith-0.1.50-py3-none-any.whl (115 kB)\n",
            "\u001b[2K     \u001b[90m━━━━━━━━━━━━━━━━━━━━━━━━━━━━━━━━━━━━━━━━\u001b[0m \u001b[32m115.5/115.5 kB\u001b[0m \u001b[31m13.0 MB/s\u001b[0m eta \u001b[36m0:00:00\u001b[0m\n",
            "\u001b[?25hRequirement already satisfied: numpy<2,>=1 in /usr/local/lib/python3.10/dist-packages (from langchain->-r requirements.txt (line 18)) (1.25.2)\n",
            "Requirement already satisfied: pydantic<3,>=1 in /usr/local/lib/python3.10/dist-packages (from langchain->-r requirements.txt (line 18)) (2.7.0)\n",
            "Requirement already satisfied: tenacity<9.0.0,>=8.1.0 in /usr/local/lib/python3.10/dist-packages (from langchain->-r requirements.txt (line 18)) (8.2.3)\n",
            "Requirement already satisfied: aiosignal>=1.1.2 in /usr/local/lib/python3.10/dist-packages (from aiohttp->openai==0.27.8->-r requirements.txt (line 7)) (1.3.1)\n",
            "Requirement already satisfied: attrs>=17.3.0 in /usr/local/lib/python3.10/dist-packages (from aiohttp->openai==0.27.8->-r requirements.txt (line 7)) (23.2.0)\n",
            "Requirement already satisfied: frozenlist>=1.1.1 in /usr/local/lib/python3.10/dist-packages (from aiohttp->openai==0.27.8->-r requirements.txt (line 7)) (1.4.1)\n",
            "Requirement already satisfied: multidict<7.0,>=4.5 in /usr/local/lib/python3.10/dist-packages (from aiohttp->openai==0.27.8->-r requirements.txt (line 7)) (6.0.5)\n",
            "Requirement already satisfied: yarl<2.0,>=1.0 in /usr/local/lib/python3.10/dist-packages (from aiohttp->openai==0.27.8->-r requirements.txt (line 7)) (1.9.4)\n",
            "Collecting marshmallow<4.0.0,>=3.18.0 (from dataclasses-json<0.7,>=0.5.7->langchain->-r requirements.txt (line 18))\n",
            "  Downloading marshmallow-3.21.1-py3-none-any.whl (49 kB)\n",
            "\u001b[2K     \u001b[90m━━━━━━━━━━━━━━━━━━━━━━━━━━━━━━━━━━━━━━━━\u001b[0m \u001b[32m49.4/49.4 kB\u001b[0m \u001b[31m5.5 MB/s\u001b[0m eta \u001b[36m0:00:00\u001b[0m\n",
            "\u001b[?25hCollecting typing-inspect<1,>=0.4.0 (from dataclasses-json<0.7,>=0.5.7->langchain->-r requirements.txt (line 18))\n",
            "  Downloading typing_inspect-0.9.0-py3-none-any.whl (8.8 kB)\n",
            "Collecting packaging<24.0,>=23.2 (from langchain-core<0.2.0,>=0.1.42->langchain->-r requirements.txt (line 18))\n",
            "  Downloading packaging-23.2-py3-none-any.whl (53 kB)\n",
            "\u001b[2K     \u001b[90m━━━━━━━━━━━━━━━━━━━━━━━━━━━━━━━━━━━━━━━━\u001b[0m \u001b[32m53.0/53.0 kB\u001b[0m \u001b[31m6.2 MB/s\u001b[0m eta \u001b[36m0:00:00\u001b[0m\n",
            "\u001b[?25hCollecting orjson<4.0.0,>=3.9.14 (from langsmith<0.2.0,>=0.1.17->langchain->-r requirements.txt (line 18))\n",
            "  Downloading orjson-3.10.1-cp310-cp310-manylinux_2_17_x86_64.manylinux2014_x86_64.whl (141 kB)\n",
            "\u001b[2K     \u001b[90m━━━━━━━━━━━━━━━━━━━━━━━━━━━━━━━━━━━━━━━━\u001b[0m \u001b[32m141.1/141.1 kB\u001b[0m \u001b[31m8.4 MB/s\u001b[0m eta \u001b[36m0:00:00\u001b[0m\n",
            "\u001b[?25hRequirement already satisfied: annotated-types>=0.4.0 in /usr/local/lib/python3.10/dist-packages (from pydantic<3,>=1->langchain->-r requirements.txt (line 18)) (0.6.0)\n",
            "Requirement already satisfied: pydantic-core==2.18.1 in /usr/local/lib/python3.10/dist-packages (from pydantic<3,>=1->langchain->-r requirements.txt (line 18)) (2.18.1)\n",
            "Requirement already satisfied: typing-extensions>=4.6.1 in /usr/local/lib/python3.10/dist-packages (from pydantic<3,>=1->langchain->-r requirements.txt (line 18)) (4.11.0)\n",
            "Requirement already satisfied: charset-normalizer<4,>=2 in /usr/local/lib/python3.10/dist-packages (from requests>=2.20->openai==0.27.8->-r requirements.txt (line 7)) (3.3.2)\n",
            "Requirement already satisfied: idna<4,>=2.5 in /usr/local/lib/python3.10/dist-packages (from requests>=2.20->openai==0.27.8->-r requirements.txt (line 7)) (3.7)\n",
            "Requirement already satisfied: urllib3<3,>=1.21.1 in /usr/local/lib/python3.10/dist-packages (from requests>=2.20->openai==0.27.8->-r requirements.txt (line 7)) (2.0.7)\n",
            "Requirement already satisfied: greenlet!=0.4.17 in /usr/local/lib/python3.10/dist-packages (from SQLAlchemy<3,>=1.4->langchain->-r requirements.txt (line 18)) (3.0.3)\n",
            "Collecting mypy-extensions>=0.3.0 (from typing-inspect<1,>=0.4.0->dataclasses-json<0.7,>=0.5.7->langchain->-r requirements.txt (line 18))\n",
            "  Downloading mypy_extensions-1.0.0-py3-none-any.whl (4.7 kB)\n",
            "Installing collected packages: packaging, orjson, mypy-extensions, jsonpatch, typing-inspect, marshmallow, langsmith, dataclasses-json, langchain-core, langchain-text-splitters, langchain-community, langchain\n",
            "  Attempting uninstall: packaging\n",
            "    Found existing installation: packaging 24.0\n",
            "    Uninstalling packaging-24.0:\n",
            "      Successfully uninstalled packaging-24.0\n",
            "Successfully installed dataclasses-json-0.6.4 jsonpatch-1.33 langchain-0.1.16 langchain-community-0.0.34 langchain-core-0.1.45 langchain-text-splitters-0.0.1 langsmith-0.1.50 marshmallow-3.21.1 mypy-extensions-1.0.0 orjson-3.10.1 packaging-23.2 typing-inspect-0.9.0\n"
          ]
        }
      ]
    },
    {
      "cell_type": "code",
      "execution_count": 3,
      "id": "1753887c-51bf-4192-a984-db70ca4df17c",
      "metadata": {
        "id": "1753887c-51bf-4192-a984-db70ca4df17c"
      },
      "outputs": [],
      "source": [
        "from langchain.chat_models import ChatOpenAI\n",
        "from langchain.prompts import PromptTemplate\n",
        "from langchain.chains import LLMChain\n",
        "from langchain.schema import BaseOutputParser"
      ]
    },
    {
      "cell_type": "markdown",
      "id": "88fe78d4-aa30-437f-a2ad-c0b409458fb1",
      "metadata": {
        "id": "88fe78d4-aa30-437f-a2ad-c0b409458fb1"
      },
      "source": [
        "### define chain"
      ]
    },
    {
      "cell_type": "code",
      "execution_count": 14,
      "id": "c2e30879-75ac-4a56-8823-ac909612e8da",
      "metadata": {
        "id": "c2e30879-75ac-4a56-8823-ac909612e8da"
      },
      "outputs": [],
      "source": [
        "# define chatbot\n",
        "chat_model = ChatOpenAI(openai_api_key=\"YOUR_KEY\", temperature=0)"
      ]
    },
    {
      "cell_type": "code",
      "execution_count": 15,
      "id": "64d0d947-54da-4c22-a27a-19196b30d2b0",
      "metadata": {
        "id": "64d0d947-54da-4c22-a27a-19196b30d2b0"
      },
      "outputs": [],
      "source": [
        "# define prompt template\n",
        "prompt_template_text = \"\"\"You are a high school history teacher grading homework assignments. \\\n",
        "Based on the homework question indicated by “**Q:**” and the correct answer indicated by “**A:**”, your task is to determine whether the student's answer is correct. \\\n",
        "Grading is binary; therefore, student answers can be correct or wrong. \\\n",
        "Simple misspellings are okay.\n",
        "\n",
        "**Q:** {question}\n",
        "**A:** {correct_answer}\n",
        "\n",
        "**Student's Answer:** {student_answer}\n",
        "\"\"\"\n",
        "\n",
        "prompt = PromptTemplate(input_variables=[\"question\", \"correct_answer\", \"student_answer\"], template = prompt_template_text)"
      ]
    },
    {
      "cell_type": "code",
      "execution_count": 16,
      "id": "0ffaf863-dc3e-4208-be89-d53d3a3bb630",
      "metadata": {
        "id": "0ffaf863-dc3e-4208-be89-d53d3a3bb630"
      },
      "outputs": [],
      "source": [
        "# define chain\n",
        "chain = LLMChain(\n",
        "    llm=chat_model,\n",
        "    prompt=prompt,\n",
        ")"
      ]
    },
    {
      "cell_type": "markdown",
      "id": "36f7149c-c422-404e-b93a-5ccb8d399b14",
      "metadata": {
        "id": "36f7149c-c422-404e-b93a-5ccb8d399b14"
      },
      "source": [
        "### use chain"
      ]
    },
    {
      "cell_type": "code",
      "execution_count": 17,
      "id": "fcdfcc60-2b3f-4a43-8ba1-a8e7b855f981",
      "metadata": {
        "colab": {
          "base_uri": "https://localhost:8080/",
          "height": 35
        },
        "id": "fcdfcc60-2b3f-4a43-8ba1-a8e7b855f981",
        "outputId": "4fcec444-1429-47a3-d486-09da1472e967"
      },
      "outputs": [
        {
          "output_type": "execute_result",
          "data": {
            "text/plain": [
              "'Correct'"
            ],
            "application/vnd.google.colaboratory.intrinsic+json": {
              "type": "string"
            }
          },
          "metadata": {},
          "execution_count": 17
        }
      ],
      "source": [
        "# define inputs\n",
        "question = \"Who was the 35th president of the United States of America?\"\n",
        "correct_answer = \"John F. Kennedy\"\n",
        "student_answer =  \"JFK\"\n",
        "\n",
        "# run chain\n",
        "chain.run({'question':question, 'correct_answer':correct_answer, 'student_answer':student_answer})"
      ]
    },
    {
      "cell_type": "code",
      "execution_count": 18,
      "id": "ac2cb76c-8960-48fd-874a-8d06cb52457a",
      "metadata": {
        "colab": {
          "base_uri": "https://localhost:8080/"
        },
        "id": "ac2cb76c-8960-48fd-874a-8d06cb52457a",
        "outputId": "793197c2-ca67-4b10-deb0-7f0551cdf82e"
      },
      "outputs": [
        {
          "output_type": "stream",
          "name": "stdout",
          "text": [
            "John F. Kennedy - The student's answer is correct.\n",
            "\n",
            "\n",
            "JFK - **Grade: Correct**\n",
            "\n",
            "\n",
            "FDR - The student's answer is wrong.\n",
            "\n",
            "\n",
            "John F. Kenedy - The student's answer is correct.\n",
            "\n",
            "\n",
            "John Kennedy - The student's answer is correct.\n",
            "\n",
            "\n",
            "Jack Kennedy - **Grade: Correct** - The student's answer \"Jack Kennedy\" is correct and refers to the 35th president of the United States, John F. Kennedy.\n",
            "\n",
            "\n",
            "Jacqueline Kennedy - **Student's Answer:** Jacqueline Kennedy\n",
            "\n",
            "**Grade:** Wrong\n",
            "\n",
            "**Feedback:** The correct answer is John F. Kennedy, not Jacqueline Kennedy.\n",
            "\n",
            "\n",
            "Robert F. Kenedy - The student's answer is incorrect.\n",
            "\n",
            "\n"
          ]
        }
      ],
      "source": [
        "# run chain in for loop\n",
        "student_answer_list = [\"John F. Kennedy\", \"JFK\", \"FDR\", \"John F. Kenedy\", \"John Kennedy\", \"Jack Kennedy\", \"Jacqueline Kennedy\", \"Robert F. Kenedy\"]\n",
        "\n",
        "for student_answer in student_answer_list:\n",
        "    print(student_answer + \" - \" + str(chain.run({'question':question, 'correct_answer':correct_answer, 'student_answer':student_answer})))\n",
        "    print('\\n')"
      ]
    },
    {
      "cell_type": "markdown",
      "id": "f78a91e4-5be0-490c-95bc-bf8a3792c1d9",
      "metadata": {
        "id": "f78a91e4-5be0-490c-95bc-bf8a3792c1d9"
      },
      "source": [
        "### add output parser"
      ]
    },
    {
      "cell_type": "code",
      "execution_count": 19,
      "id": "ecb2dc7d-74c0-400d-a35f-358f047c9bee",
      "metadata": {
        "id": "ecb2dc7d-74c0-400d-a35f-358f047c9bee"
      },
      "outputs": [],
      "source": [
        "# define output parser\n",
        "class GradeOutputParser(BaseOutputParser):\n",
        "    \"\"\"Determine whether grade was correct or wrong\"\"\"\n",
        "\n",
        "    def parse(self, text: str):\n",
        "        \"\"\"Parse the output of an LLM call.\"\"\"\n",
        "        return \"wrong\" not in text.lower()"
      ]
    },
    {
      "cell_type": "code",
      "execution_count": 20,
      "id": "13c0ee88-0b77-4c1d-8264-34d197193ea3",
      "metadata": {
        "id": "13c0ee88-0b77-4c1d-8264-34d197193ea3"
      },
      "outputs": [],
      "source": [
        "# update chain\n",
        "chain = LLMChain(\n",
        "    llm=chat_model,\n",
        "    prompt=prompt,\n",
        "    output_parser=GradeOutputParser()\n",
        ")"
      ]
    },
    {
      "cell_type": "code",
      "execution_count": 21,
      "id": "ec9f79a2-0b8e-4cc0-bc10-9062a3d0ba3d",
      "metadata": {
        "colab": {
          "base_uri": "https://localhost:8080/"
        },
        "id": "ec9f79a2-0b8e-4cc0-bc10-9062a3d0ba3d",
        "outputId": "24b9a4f4-b6c7-41f8-dbfa-c42fb728004b"
      },
      "outputs": [
        {
          "output_type": "stream",
          "name": "stdout",
          "text": [
            "John F. Kennedy - True\n",
            "JFK - True\n",
            "FDR - True\n",
            "John F. Kenedy - True\n",
            "John Kennedy - True\n",
            "Jack Kennedy - True\n",
            "Jacqueline Kennedy - True\n",
            "Robert F. Kenedy - True\n"
          ]
        }
      ],
      "source": [
        "# grade student answers\n",
        "for student_answer in student_answer_list:\n",
        "    print(student_answer + \" - \" + str(chain.run({'question':question, 'correct_answer':correct_answer, 'student_answer':student_answer})))"
      ]
    }
  ],
  "metadata": {
    "kernelspec": {
      "display_name": "Python 3 (ipykernel)",
      "language": "python",
      "name": "python3"
    },
    "language_info": {
      "codemirror_mode": {
        "name": "ipython",
        "version": 3
      },
      "file_extension": ".py",
      "mimetype": "text/x-python",
      "name": "python",
      "nbconvert_exporter": "python",
      "pygments_lexer": "ipython3",
      "version": "3.11.4"
    },
    "colab": {
      "provenance": []
    }
  },
  "nbformat": 4,
  "nbformat_minor": 5
}